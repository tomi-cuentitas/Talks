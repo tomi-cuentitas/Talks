{
  "nbformat": 4,
  "nbformat_minor": 0,
  "metadata": {
    "colab": {
      "provenance": []
    },
    "kernelspec": {
      "name": "python3",
      "display_name": "Python 3"
    },
    "language_info": {
      "name": "python"
    }
  },
  "cells": [
    {
      "cell_type": "markdown",
      "source": [
        "# Qiskit implementation of the Grover algorithm\n",
        "\n",
        "## Simple example for $N=4$:\n",
        "\n",
        "We want to use the Qiskit library to write some simple implementation of the Grover algorithm (see the lectures for more details)\n",
        "\n",
        "The first thing que need to do is to install the latest versions of Qiskit (Qiskit 1.0.0).\n",
        "We need to install:\n",
        "\n",
        "*   Qiskit itself\n",
        "*   Qiskit Aer, a simulator (basically, this package will run our desired algorithm a high number of times in order to gather statistics on the results)\n",
        "\n"
      ],
      "metadata": {
        "id": "y8n5HFxwxGZZ"
      }
    },
    {
      "cell_type": "code",
      "execution_count": 1,
      "metadata": {
        "colab": {
          "base_uri": "https://localhost:8080/"
        },
        "id": "hE6Qm0wZN2jJ",
        "outputId": "c6486afc-3726-4bd8-f688-5c360aeeacaa"
      },
      "outputs": [
        {
          "output_type": "stream",
          "name": "stdout",
          "text": [
            "Requirement already satisfied: qiskit in /usr/local/lib/python3.10/dist-packages (1.0.2)\n",
            "Requirement already satisfied: rustworkx>=0.14.0 in /usr/local/lib/python3.10/dist-packages (from qiskit) (0.14.1)\n",
            "Requirement already satisfied: numpy<2,>=1.17 in /usr/local/lib/python3.10/dist-packages (from qiskit) (1.25.2)\n",
            "Requirement already satisfied: scipy>=1.5 in /usr/local/lib/python3.10/dist-packages (from qiskit) (1.11.4)\n",
            "Requirement already satisfied: sympy>=1.3 in /usr/local/lib/python3.10/dist-packages (from qiskit) (1.12)\n",
            "Requirement already satisfied: dill>=0.3 in /usr/local/lib/python3.10/dist-packages (from qiskit) (0.3.8)\n",
            "Requirement already satisfied: python-dateutil>=2.8.0 in /usr/local/lib/python3.10/dist-packages (from qiskit) (2.8.2)\n",
            "Requirement already satisfied: stevedore>=3.0.0 in /usr/local/lib/python3.10/dist-packages (from qiskit) (5.2.0)\n",
            "Requirement already satisfied: typing-extensions in /usr/local/lib/python3.10/dist-packages (from qiskit) (4.10.0)\n",
            "Requirement already satisfied: symengine>=0.11 in /usr/local/lib/python3.10/dist-packages (from qiskit) (0.11.0)\n",
            "Requirement already satisfied: six>=1.5 in /usr/local/lib/python3.10/dist-packages (from python-dateutil>=2.8.0->qiskit) (1.16.0)\n",
            "Requirement already satisfied: pbr!=2.1.0,>=2.0.0 in /usr/local/lib/python3.10/dist-packages (from stevedore>=3.0.0->qiskit) (6.0.0)\n",
            "Requirement already satisfied: mpmath>=0.19 in /usr/local/lib/python3.10/dist-packages (from sympy>=1.3->qiskit) (1.3.0)\n"
          ]
        }
      ],
      "source": [
        "pip install qiskit"
      ]
    },
    {
      "cell_type": "code",
      "source": [
        "pip install qiskit-aer"
      ],
      "metadata": {
        "colab": {
          "base_uri": "https://localhost:8080/"
        },
        "id": "IGup5mDMVBjl",
        "outputId": "0123cc63-7562-41b5-844c-6880cafad1e4"
      },
      "execution_count": 2,
      "outputs": [
        {
          "output_type": "stream",
          "name": "stdout",
          "text": [
            "Requirement already satisfied: qiskit-aer in /usr/local/lib/python3.10/dist-packages (0.13.3)\n",
            "Requirement already satisfied: qiskit>=0.45.0 in /usr/local/lib/python3.10/dist-packages (from qiskit-aer) (1.0.2)\n",
            "Requirement already satisfied: numpy>=1.16.3 in /usr/local/lib/python3.10/dist-packages (from qiskit-aer) (1.25.2)\n",
            "Requirement already satisfied: scipy>=1.0 in /usr/local/lib/python3.10/dist-packages (from qiskit-aer) (1.11.4)\n",
            "Requirement already satisfied: psutil>=5 in /usr/local/lib/python3.10/dist-packages (from qiskit-aer) (5.9.5)\n",
            "Requirement already satisfied: rustworkx>=0.14.0 in /usr/local/lib/python3.10/dist-packages (from qiskit>=0.45.0->qiskit-aer) (0.14.1)\n",
            "Requirement already satisfied: sympy>=1.3 in /usr/local/lib/python3.10/dist-packages (from qiskit>=0.45.0->qiskit-aer) (1.12)\n",
            "Requirement already satisfied: dill>=0.3 in /usr/local/lib/python3.10/dist-packages (from qiskit>=0.45.0->qiskit-aer) (0.3.8)\n",
            "Requirement already satisfied: python-dateutil>=2.8.0 in /usr/local/lib/python3.10/dist-packages (from qiskit>=0.45.0->qiskit-aer) (2.8.2)\n",
            "Requirement already satisfied: stevedore>=3.0.0 in /usr/local/lib/python3.10/dist-packages (from qiskit>=0.45.0->qiskit-aer) (5.2.0)\n",
            "Requirement already satisfied: typing-extensions in /usr/local/lib/python3.10/dist-packages (from qiskit>=0.45.0->qiskit-aer) (4.10.0)\n",
            "Requirement already satisfied: symengine>=0.11 in /usr/local/lib/python3.10/dist-packages (from qiskit>=0.45.0->qiskit-aer) (0.11.0)\n",
            "Requirement already satisfied: six>=1.5 in /usr/local/lib/python3.10/dist-packages (from python-dateutil>=2.8.0->qiskit>=0.45.0->qiskit-aer) (1.16.0)\n",
            "Requirement already satisfied: pbr!=2.1.0,>=2.0.0 in /usr/local/lib/python3.10/dist-packages (from stevedore>=3.0.0->qiskit>=0.45.0->qiskit-aer) (6.0.0)\n",
            "Requirement already satisfied: mpmath>=0.19 in /usr/local/lib/python3.10/dist-packages (from sympy>=1.3->qiskit>=0.45.0->qiskit-aer) (1.3.0)\n"
          ]
        }
      ]
    },
    {
      "cell_type": "markdown",
      "source": [
        "Now we import the modules which we will use.\n",
        "For the time being, we are interested in QuantumCircuit and ClassicalRegister\n",
        "\n",
        "*   QuantumCircuit: QuantumCircuit is used to, in technical terms, instantiate an object in a class. Basically, it is used to create quantum circuits with parameters of interest and a special structure which can then be used to do quantum operations.\n",
        "*   ClassicalRegister: if you recall from the seminar, one model for quantum computations considers the possibility of combining the classical operations (e.g. sending data via a cable) with quantum operations, in order to gain the best of both worlds. ClassicalRegister, in a way, is precisely just that. Whenever we want to do a measurement of a quantum operation, we get a \"classical\" result (i.e. the result of said measurement can be stored with classical bits), which we store in a ClassicalRegister, for posterior processing\n",
        "\n"
      ],
      "metadata": {
        "id": "yI2pofYL0_eE"
      }
    },
    {
      "cell_type": "code",
      "source": [
        "from qiskit import *\n",
        "from qiskit import QuantumCircuit, ClassicalRegister"
      ],
      "metadata": {
        "id": "QiEJnu0POJPy"
      },
      "execution_count": 3,
      "outputs": []
    },
    {
      "cell_type": "markdown",
      "source": [
        "We define the number of qubits we want to work with. If we want to work with $N=4$ possible states (namely, $|{00}\\rangle, |{01}\\rangle, |{10}\\rangle, |{11}\\rangle$) we need:\n",
        "\n",
        "$$\n",
        "  n = \\log_{2} N,\n",
        "$$\n",
        "\n",
        "which gives $n=2$. This is so since a chain of $n$ qubits has a total of $N=2^n$ possible states. With that settled, we will instantiate a quantum circuit with $n=2$\n",
        "\n",
        "\n",
        "\n",
        ":-) Exercise: How many different states there will be if we consider $n=3$ and $n=4$ qubits?\n"
      ],
      "metadata": {
        "id": "wzkHLB_z4vCV"
      }
    },
    {
      "cell_type": "code",
      "source": [
        "n=2\n",
        "grover_circuit = QuantumCircuit(n)"
      ],
      "metadata": {
        "id": "NZ6eoO-I4wA4"
      },
      "execution_count": 4,
      "outputs": []
    },
    {
      "cell_type": "markdown",
      "source": [
        "So, now we have to actually write and implement the quantum operations in the Grover algorithm.\n",
        "We will do them, step by step, so hopefully everything is clear.\n",
        "\n",
        "### 1st: Initialization\n",
        "\n",
        "What does this initialization procedure mean? Two things.\n",
        "\n",
        "*   We need to define our target state, that is, which state is the one which we want to distinguish with high-accuracy. In this example, we have four states  $\\{|{00}\\rangle, |{01}\\rangle, |{10}\\rangle, |{11}\\rangle\\}$ and our target state is $|\\omega\\rangle=|11\\rangle$.\n",
        "\n",
        ">> What does this mean? If you remember from the seminar, we used the states of a system as a fundamental block of quantum mechanics. If we know the state of the system, we know of all of its properties and behaviour, right?\n",
        "The most general state of this quantum circuit will be something like\n",
        "$$\n",
        "  |\\psi_0 \\rangle = a {00}\\rangle + b |{01}\\rangle + c |{10}\\rangle + d |{11}\\rangle,\n",
        "$$\n",
        "provided $a^2+b^2+c^2+d^2=1$.\n",
        "\n",
        "So we want to make a series of quantum operations such that, we _always_ get a final state $|\\psi_{f}\\rangle = |11\\rangle$.\n",
        "\n",
        "\n",
        "* The second step is to provide a \"guess\" of the initial state of the system.\n",
        "A simple initial system is to say that, since we do not know much about the quantum circuit, we propose that all four states have the same probability,\n",
        "\n",
        "$$\n",
        "  |\\psi_0\\rangle = \\frac{1}{4} {00}\\rangle + \\frac{1}{4} |{01}\\rangle + \\frac{1}{4} |{10}\\rangle + \\frac{1}{4} |{11}\\rangle,\n",
        "$$\n",
        "\n",
        "In quantum computation, the proper way to do this is to use a so-called Hadamard gate.\n",
        "\n",
        "The following piece of code is a fancy way to initialize the state of the quantum circuit"
      ],
      "metadata": {
        "id": "4hRIrm-d-DQS"
      }
    },
    {
      "cell_type": "code",
      "source": [
        "def initialize_S(qc, qubits):\n",
        "  for q in qubits:\n",
        "    qc.h(q)\n",
        "  return qc"
      ],
      "metadata": {
        "id": "9U0DkGai8hhz"
      },
      "execution_count": 5,
      "outputs": []
    },
    {
      "cell_type": "markdown",
      "source": [
        "This function takes two inputs:\n",
        "\n",
        "1. The quantum circuit,\n",
        "2. and the qubits, which, by convention, are numbered from 0 onwards. So we have two qubits, qubit 0 and qubit 1. These are just labels, though, nothing else. Not states, not probabilities, we could also call them \"Alice\" and \"Bob\" or whatever we want.\n",
        "\n",
        "We apply this function on the quantum circuit."
      ],
      "metadata": {
        "id": "j_cp5l7GEXlJ"
      }
    },
    {
      "cell_type": "code",
      "source": [
        "grover_circuit = initialize_S(grover_circuit, [0,1])\n",
        "grover_circuit.draw()"
      ],
      "metadata": {
        "colab": {
          "base_uri": "https://localhost:8080/",
          "height": 94
        },
        "id": "WP9GJ8w-Ezyp",
        "outputId": "43e82f83-19aa-4fe7-cc8d-576b42a7bb96"
      },
      "execution_count": 6,
      "outputs": [
        {
          "output_type": "execute_result",
          "data": {
            "text/plain": [
              "     ┌───┐\n",
              "q_0: ┤ H ├\n",
              "     ├───┤\n",
              "q_1: ┤ H ├\n",
              "     └───┘"
            ],
            "text/html": [
              "<pre style=\"word-wrap: normal;white-space: pre;background: #fff0;line-height: 1.1;font-family: &quot;Courier New&quot;,Courier,monospace\">     ┌───┐\n",
              "q_0: ┤ H ├\n",
              "     ├───┤\n",
              "q_1: ┤ H ├\n",
              "     └───┘</pre>"
            ]
          },
          "metadata": {},
          "execution_count": 6
        }
      ]
    },
    {
      "cell_type": "markdown",
      "source": [
        "## 2nd: Repetition of operations\n",
        "\n",
        "Now we must repeat two kinds of operations:\n",
        "\n",
        "1. an oracle, which we call $U_\\omega$,\n",
        "2. and a rotation, which we call $U_S$,\n",
        "\n",
        "How many repetitions should we do until we find the state with 100% accuracy? These two steps must be done *around* $r(N) = \\frac{\\pi}{4} \\sqrt{N}.$. For $N=4$, $r\\approx 1.57$, so technically we should repeat these two operations twice.\n",
        "In this *very simple example*, it turns out we need only to repeat once these steps, i.e.\n",
        "\n",
        "1. perform oracle,\n",
        "2. perform rotation,\n",
        "\n",
        "in order to find the state $|11\\rangle$. Doing it twice would be overkill."
      ],
      "metadata": {
        "id": "pbRoFMExHmZW"
      }
    },
    {
      "cell_type": "markdown",
      "source": [
        "### 2.1 The oracle\n",
        "\n",
        "We now apply the oracle. What is the oracle?\n",
        "\n",
        ">> It is a quantum operation defined as follow:\n",
        "\n",
        "* $U_\\omega |{a}\\rangle= |a\\rangle$ if $|a\\rangle \\neq |\\omega\\rangle$, and\n",
        "* $U_\\omega |{a}\\rangle= (-1)|a\\rangle$ if $|a\\rangle = |\\omega\\rangle$\n",
        "\n",
        "So this quantum operation, should be the identity for $|{00}\\rangle, |{01}\\rangle, |{10}\\rangle$ but have a minus for the $|11\\rangle$ state.\n",
        "The correct quantum operation is the [Controlled-Z gate](https://docs.quantum.ibm.com/api/qiskit/qiskit.circuit.library.CZGate), in qiskit, known as \"cz\"."
      ],
      "metadata": {
        "id": "Gz0OCSsDFwmV"
      }
    },
    {
      "cell_type": "code",
      "source": [
        "grover_circuit.cz(0,1) # the oracle itself that acts on both qubits, q0 and q1.\n",
        "oracle_ex=grover_circuit.to_gate() # we tell qiskit that the previous operation was the oracle\n",
        "oracle_ex.name=\"U_w\" # we assign it a name\n",
        "grover_circuit.draw()"
      ],
      "metadata": {
        "colab": {
          "base_uri": "https://localhost:8080/",
          "height": 94
        },
        "id": "KwXRIDajDwKX",
        "outputId": "5770aec2-810c-4f82-b58f-2f35cd44e3f9"
      },
      "execution_count": 7,
      "outputs": [
        {
          "output_type": "execute_result",
          "data": {
            "text/plain": [
              "     ┌───┐   \n",
              "q_0: ┤ H ├─■─\n",
              "     ├───┤ │ \n",
              "q_1: ┤ H ├─■─\n",
              "     └───┘   "
            ],
            "text/html": [
              "<pre style=\"word-wrap: normal;white-space: pre;background: #fff0;line-height: 1.1;font-family: &quot;Courier New&quot;,Courier,monospace\">     ┌───┐   \n",
              "q_0: ┤ H ├─■─\n",
              "     ├───┤ │ \n",
              "q_1: ┤ H ├─■─\n",
              "     └───┘   </pre>"
            ]
          },
          "metadata": {},
          "execution_count": 7
        }
      ]
    },
    {
      "cell_type": "markdown",
      "source": [
        ":-) Exercise: try to find different oracles for different target states, e.g. try it with $|01\\rangle$ instead of the $|11\\rangle$ and play a little with the new oracle.  "
      ],
      "metadata": {
        "id": "n9dLRiWrJhX1"
      }
    },
    {
      "cell_type": "markdown",
      "source": [
        "### 2.2 The rotation\n",
        "\n",
        "Now, we must apply a rotation.\n",
        "For the time being, with the tools given in the seminar, we are not yet ready to write a mathematical description of the rotation, since it involves introducing something called \"kets\" and \"bras\". Mathematically, this would be\n",
        "\n",
        "$$\n",
        "  U_S = 2 |\\psi_0 \\rangle\\langle \\psi_0| - I,\n",
        "$$\n",
        "\n",
        "where $I$ is the identity.\n",
        "Suffice it to say, we will apply the following operations which mathematically give the same result as the previous quantum operation but are already defined in Qiskit"
      ],
      "metadata": {
        "id": "LbeA0WdeJ5Vr"
      }
    },
    {
      "cell_type": "code",
      "source": [
        "grover_circuit.h([0,1])\n",
        "grover_circuit.z([0,1])\n",
        "grover_circuit.cz(0,1)\n",
        "grover_circuit.h([0,1])\n",
        "grover_circuit.measure_all()\n",
        "grover_circuit.draw()"
      ],
      "metadata": {
        "colab": {
          "base_uri": "https://localhost:8080/",
          "height": 125
        },
        "id": "ob9KGISlHlj1",
        "outputId": "d15de4d7-8a6f-42d1-bde8-e73b41e90f2c"
      },
      "execution_count": 8,
      "outputs": [
        {
          "output_type": "execute_result",
          "data": {
            "text/plain": [
              "        ┌───┐   ┌───┐┌───┐   ┌───┐ ░ ┌─┐   \n",
              "   q_0: ┤ H ├─■─┤ H ├┤ Z ├─■─┤ H ├─░─┤M├───\n",
              "        ├───┤ │ ├───┤├───┤ │ ├───┤ ░ └╥┘┌─┐\n",
              "   q_1: ┤ H ├─■─┤ H ├┤ Z ├─■─┤ H ├─░──╫─┤M├\n",
              "        └───┘   └───┘└───┘   └───┘ ░  ║ └╥┘\n",
              "meas: 2/══════════════════════════════╩══╩═\n",
              "                                      0  1 "
            ],
            "text/html": [
              "<pre style=\"word-wrap: normal;white-space: pre;background: #fff0;line-height: 1.1;font-family: &quot;Courier New&quot;,Courier,monospace\">        ┌───┐   ┌───┐┌───┐   ┌───┐ ░ ┌─┐   \n",
              "   q_0: ┤ H ├─■─┤ H ├┤ Z ├─■─┤ H ├─░─┤M├───\n",
              "        ├───┤ │ ├───┤├───┤ │ ├───┤ ░ └╥┘┌─┐\n",
              "   q_1: ┤ H ├─■─┤ H ├┤ Z ├─■─┤ H ├─░──╫─┤M├\n",
              "        └───┘   └───┘└───┘   └───┘ ░  ║ └╥┘\n",
              "meas: 2/══════════════════════════════╩══╩═\n",
              "                                      0  1 </pre>"
            ]
          },
          "metadata": {},
          "execution_count": 8
        }
      ]
    },
    {
      "cell_type": "markdown",
      "source": [
        "So in the previous diagram we found the quantum circuit, with the M boxes representing measurements.\n",
        "These measurements are classical results, which are then going to be processed by the classical register.\n",
        "\n",
        "Recall that quantum mechanics is, at a fundamental level, a probabilistic theory. So, in order to check correctness of a result, we have to make a very large number of experiments, gather statistics and, with these results, make some conclusion.\n",
        "\n",
        "With the help of Qiskit.Aer and Qiskit.Visualization we will do precisely just that."
      ],
      "metadata": {
        "id": "FKp1f0T9Qk12"
      }
    },
    {
      "cell_type": "code",
      "source": [
        "from qiskit_aer import Aer\n",
        "qasm_sim = Aer.get_backend('qasm_simulator') # a simulator which will run the previous Grover circuit a very large number of times\n",
        "result=qasm_sim.run(grover_circuit).result() # these results will be fed to the classical register and we will plot the result\n",
        "counts=result.get_counts()\n",
        "\n",
        "from qiskit.visualization import plot_histogram\n",
        "\n",
        "plot_histogram(counts) # here we will plot a histogram, basically a plot showing how many times we found the target state.\n"
      ],
      "metadata": {
        "colab": {
          "base_uri": "https://localhost:8080/",
          "height": 461
        },
        "id": "Y5GVmphQOsvO",
        "outputId": "88d6a3a7-1fb9-4307-c240-ee2da6537212"
      },
      "execution_count": 9,
      "outputs": [
        {
          "output_type": "execute_result",
          "data": {
            "text/plain": [
              "<Figure size 700x500 with 1 Axes>"
            ],
            "image/png": "[encoded data removed]"
          },
          "metadata": {},
          "execution_count": 9
        }
      ]
    },
    {
      "cell_type": "markdown",
      "source": [
        "From this, we find that from 1024 experiments, we correctly found the target state 1024 times, which is perfect accuracy.\n",
        "\n",
        "To summarize, the Grover circuit is a good example of potential applications of quantum computation for more complicated problems since it shows how, by using classical and quantum operations both, you can solve this linear search problem in $O(\\sqrt{N})$ steps, instead of the worst-case-scenario of $O(N)$ steps needed if we were restricted to classical computation only."
      ],
      "metadata": {
        "id": "tWnk3gnwRybQ"
      }
    },
    {
      "cell_type": "code",
      "source": [],
      "metadata": {
        "id": "DaMcUcAvTHwj"
      },
      "execution_count": null,
      "outputs": []
    }
  ]
}